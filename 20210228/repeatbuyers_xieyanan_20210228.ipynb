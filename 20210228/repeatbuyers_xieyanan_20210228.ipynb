{
 "cells": [
  {
   "attachments": {},
   "cell_type": "markdown",
   "metadata": {},
   "source": [
    "### Thinking\n",
    "1. 电商定向广告和搜索广告有怎样的区别，算法模型是否有差别    \n",
    "  * 搜索广告是精准的，它根据用户搜索查询投放，反映了用户的明确需求；\n",
    "  * 电商定向广告不针对用户的精准需求，即用户没有明显的意图（主动的Query查询），在进入电商界面之前没有特别明确的目标，需要根据过往历史进行item推荐。\n",
    "  * 算法模型有区别\n",
    "  \n",
    "\n",
    "2. 定向广告都有哪些常见的使用模型，包括Attention机制模型\n",
    "  * LR MLR DNN DIN DIEN DSIN  \n",
    "  \n",
    "  \n",
    "3. DIN中的Attention机制思想和原理是怎样的  \n",
    "  * Atten机制指的是将用户diversity（多样性/个性化）和候选广告的匹配，需要通过注意力机制找到关键的商品\n",
    "  * Attention机制在对用户行为的embedding计算上引入了attention network (也称为Activation Unit) ，把用户历史行为特征进行embedding操作，视为对用户兴趣的表示，之后通过Attention Unit，对每个兴趣表示赋予不同的权值；Attention Weight是由用户历史行为和候选广告进行匹配计算得到的，对应着洞察（用户兴趣的Diversity，以及Local Activation）\n",
    "  \n",
    "  \n",
    "4. DIEN相比于DIN有哪些创新\n",
    "  * 在于兴趣的推演\n",
    "  * DIEN使用behavior layer，interest extractor layer 以及 interest evolving layer从用户历史行为中挖掘用户与目标商品相关的兴趣及演变，其中Interest Evolving layer 利用序列模型 AUGRU 的结构将不同时间的用户兴趣串联起来，形成兴趣进化的链条\n",
    "\n",
    "\n",
    "5. DSIN关于Session的洞察是怎样的，如何对Session兴趣进行表达\n",
    "  * DSIN通过浏览器的方式做session会话的切割，利用用户的行为序列中的多个历史会话，一个session是在给定的时间范围内发生的交互列表（用户行为列表）\n",
    "  * 洞察：Sequence视角，同样可以看到user interest的变化；Session视角，每个Session中的行为是相近的，而在不同会话之间差别是很大的（类似聚类）；Session的划分和airbnb一样，即将用户的点击行为按照时间排序，前后的时间间隔大于30min，算成另一个session\n",
    "  * 如何对Session兴趣进行表达：将用户的连续行为自然地划分为Session，通过带有偏置编码的self attention网络对每个会话进行建模；使用BI-LSTM捕捉用户不同历史会话兴趣的交互和演变；设计了两个Activation Unit，将它们与目标item聚合起来，形成行为序列的最终表示形式\n",
    "\n",
    "  \n",
    "6. 如果你来设计淘宝定向广告，会有哪些future work（即下一个阶段的idea）\n",
    "  * 通过用户聚类，参考同一个cluster中其他用户购买过的商品，进行推荐\n",
    "\n",
    "### Action\n",
    "数据集：天猫用户复购预测  \n",
    "Score > 0.66"
   ]
  },
  {
   "cell_type": "markdown",
   "metadata": {},
   "source": [
    "###  使用机器学习模型XGBoost"
   ]
  },
  {
   "cell_type": "code",
   "execution_count": 1,
   "metadata": {},
   "outputs": [],
   "source": [
    "import gc\n",
    "import pandas as pd"
   ]
  },
  {
   "cell_type": "code",
   "execution_count": 2,
   "metadata": {},
   "outputs": [],
   "source": [
    "# 加载小样本\n",
    "# user_log = pd.read_csv('./data_format1_small/sample_user_log.csv', dtype={'time_stamp':'str'})\n",
    "# user_info = pd.read_csv('./data_format1_small/sample_user_info.csv')\n",
    "# train_data1 = pd.read_csv('./data_format1_small/train.csv')\n",
    "# submission = pd.read_csv('./data_format1_small/test.csv')\n",
    "\n",
    "## 加载全量样本\n",
    "user_log = pd.read_csv('./data_format1/user_log_format1.csv', dtype={'time_stamp':'str'})\n",
    "user_info = pd.read_csv('./data_format1/user_info_format1.csv')\n",
    "train_data1 = pd.read_csv('./data_format1/train_format1.csv')\n",
    "submission = pd.read_csv('./data_format1/test_format1.csv')\n",
    "\n",
    "train_data = pd.read_csv('./data_format2/train_format2.csv')\n",
    "train_data1['origin'] = 'train'\n",
    "submission['origin'] = 'test'\n"
   ]
  },
  {
   "cell_type": "code",
   "execution_count": 3,
   "metadata": {},
   "outputs": [
    {
     "name": "stdout",
     "output_type": "stream",
     "text": [
      "        user_id  merchant_id  label origin  prob\n",
      "0         34176         3906    0.0  train   NaN\n",
      "1         34176          121    0.0  train   NaN\n",
      "2         34176         4356    1.0  train   NaN\n",
      "3         34176         2217    0.0  train   NaN\n",
      "4        230784         4818    0.0  train   NaN\n",
      "...         ...          ...    ...    ...   ...\n",
      "522336   228479         3111    NaN   test   NaN\n",
      "522337    97919         2341    NaN   test   NaN\n",
      "522338    97919         3971    NaN   test   NaN\n",
      "522339    32639         3536    NaN   test   NaN\n",
      "522340    32639         3319    NaN   test   NaN\n",
      "\n",
      "[522341 rows x 5 columns]\n"
     ]
    }
   ],
   "source": [
    "matrix = pd.concat([train_data1, submission], ignore_index=True, sort=False)\n",
    "print(matrix)"
   ]
  },
  {
   "cell_type": "code",
   "execution_count": 4,
   "metadata": {},
   "outputs": [],
   "source": [
    "matrix.drop(['prob'], axis=1, inplace=True)\n"
   ]
  },
  {
   "cell_type": "code",
   "execution_count": 5,
   "metadata": {},
   "outputs": [],
   "source": [
    "# 连接user_info表，通过user_id关联\n",
    "matrix = matrix.merge(user_info, on='user_id', how='left')"
   ]
  },
  {
   "cell_type": "code",
   "execution_count": 6,
   "metadata": {},
   "outputs": [],
   "source": [
    "# 使用merchant_id（原列名seller_id）\n",
    "user_log.rename(columns={'seller_id':'merchant_id'}, inplace=True)"
   ]
  },
  {
   "cell_type": "code",
   "execution_count": 7,
   "metadata": {},
   "outputs": [],
   "source": [
    "# 格式化\n",
    "user_log['user_id'] = user_log['user_id'].astype('int32')\n",
    "user_log['merchant_id'] = user_log['merchant_id'].astype('int32')\n",
    "user_log['item_id'] = user_log['item_id'].astype('int32')\n",
    "user_log['cat_id'] = user_log['cat_id'].astype('int32')\n",
    "user_log['brand_id'].fillna(0, inplace=True)\n",
    "user_log['brand_id'] = user_log['brand_id'].astype('int32')\n",
    "user_log['time_stamp'] = pd.to_datetime(user_log['time_stamp'], format='%H%M')"
   ]
  },
  {
   "cell_type": "code",
   "execution_count": 8,
   "metadata": {},
   "outputs": [
    {
     "name": "stdout",
     "output_type": "stream",
     "text": [
      "        user_id  merchant_id label origin  age_range  gender\n",
      "0         34176         3906   0.0  train          6       0\n",
      "1         34176          121   0.0  train          6       0\n",
      "2         34176         4356   1.0  train          6       0\n",
      "3         34176         2217   0.0  train          6       0\n",
      "4        230784         4818   0.0  train          0       0\n",
      "...         ...          ...   ...    ...        ...     ...\n",
      "522336   228479         3111   nan   test          6       0\n",
      "522337    97919         2341   nan   test          8       1\n",
      "522338    97919         3971   nan   test          8       1\n",
      "522339    32639         3536   nan   test          0       0\n",
      "522340    32639         3319   nan   test          0       0\n",
      "\n",
      "[522341 rows x 6 columns]\n"
     ]
    }
   ],
   "source": [
    "matrix['age_range'].fillna(0, inplace=True)\n",
    "# 0:female, 1:male, 2:unknown\n",
    "matrix['gender'].fillna(2, inplace=True)\n",
    "matrix['age_range'] = matrix['age_range'].astype('int8')\n",
    "matrix['gender'] = matrix['gender'].astype('int8')\n",
    "matrix['label'] = matrix['label'].astype('str')\n",
    "matrix['user_id'] = matrix['user_id'].astype('int32')\n",
    "matrix['merchant_id'] = matrix['merchant_id'].astype('int32')\n",
    "del user_info, train_data1\n",
    "gc.collect()\n",
    "print(matrix)"
   ]
  },
  {
   "cell_type": "code",
   "execution_count": 9,
   "metadata": {},
   "outputs": [],
   "source": [
    "# User特征处理\n",
    "groups = user_log.groupby(['user_id'])"
   ]
  },
  {
   "cell_type": "code",
   "execution_count": 10,
   "metadata": {},
   "outputs": [],
   "source": [
    "# 用户交互行为数量 u1\n",
    "temp = groups.size().reset_index().rename(columns={0:'u1'})\n",
    "matrix = matrix.merge(temp, on='user_id', how='left')"
   ]
  },
  {
   "cell_type": "code",
   "execution_count": 11,
   "metadata": {},
   "outputs": [],
   "source": [
    "# 对于每个user_id 不重复的item_id的数量 => u2\n",
    "temp = groups['item_id'].agg([('u2', 'nunique')]).reset_index()\n",
    "matrix = matrix.merge(temp, on='user_id', how='left')\n",
    "# 对于每个user_id 不重复的cat_id的数量 => u3\n",
    "temp = groups['cat_id'].agg([('u3', 'nunique')]).reset_index()\n",
    "matrix = matrix.merge(temp, on='user_id', how='left')\n",
    "temp = groups['merchant_id'].agg([('u4', 'nunique')]).reset_index()\n",
    "matrix = matrix.merge(temp, on='user_id', how='left')\n",
    "temp = groups['brand_id'].agg([('u5', 'nunique')]).reset_index()\n",
    "matrix = matrix.merge(temp, on='user_id', how='left')"
   ]
  },
  {
   "cell_type": "code",
   "execution_count": 12,
   "metadata": {},
   "outputs": [
    {
     "name": "stdout",
     "output_type": "stream",
     "text": [
      "        user_id  merchant_id label origin  age_range  gender    u1    u2  u3  \\\n",
      "0         34176         3906   0.0  train          6       0   451   256  45   \n",
      "1         34176          121   0.0  train          6       0   451   256  45   \n",
      "2         34176         4356   1.0  train          6       0   451   256  45   \n",
      "3         34176         2217   0.0  train          6       0   451   256  45   \n",
      "4        230784         4818   0.0  train          0       0    54    31  17   \n",
      "...         ...          ...   ...    ...        ...     ...   ...   ...  ..   \n",
      "522336   228479         3111   nan   test          6       0  2004  1173  71   \n",
      "522337    97919         2341   nan   test          8       1    55    29  14   \n",
      "522338    97919         3971   nan   test          8       1    55    29  14   \n",
      "522339    32639         3536   nan   test          0       0    72    46  24   \n",
      "522340    32639         3319   nan   test          0       0    72    46  24   \n",
      "\n",
      "         u4   u5        u6      u7   u8    u9    u10  \n",
      "0       109  108  5.833333   410.0  NaN  34.0    7.0  \n",
      "1       109  108  5.833333   410.0  NaN  34.0    7.0  \n",
      "2       109  108  5.833333   410.0  NaN  34.0    7.0  \n",
      "3       109  108  5.833333   410.0  NaN  34.0    7.0  \n",
      "4        20   19  5.166667    47.0  NaN   7.0    NaN  \n",
      "...     ...  ...       ...     ...  ...   ...    ...  \n",
      "522336  278  282  6.000000  1770.0  NaN  26.0  208.0  \n",
      "522337   17   17  4.750000    46.0  NaN   8.0    1.0  \n",
      "522338   17   17  4.750000    46.0  NaN   8.0    1.0  \n",
      "522339   33   35  5.800000    62.0  1.0   8.0    1.0  \n",
      "522340   33   35  5.800000    62.0  1.0   8.0    1.0  \n",
      "\n",
      "[522341 rows x 16 columns]\n"
     ]
    }
   ],
   "source": [
    "# 时间间隔特征 u6 按照小时\n",
    "# 对于每个user_id 计算time_stamp的最小时间 => F_time, 最大时间max => L_time\n",
    "temp = groups['time_stamp'].agg([('F_time', 'min'), ('L_time', 'max')]).reset_index()\n",
    "temp['u6'] = (temp['L_time'] - temp['F_time']).dt.seconds/3600\n",
    "matrix = matrix.merge(temp[['user_id', 'u6']], on='user_id', how='left')\n",
    "# 统计操作类型为0，1，2，3的个数\n",
    "temp = groups['action_type'].value_counts().unstack().reset_index().rename(columns={0:'u7', 1:'u8', 2:'u9', 3:'u10'})\n",
    "matrix = matrix.merge(temp, on='user_id', how='left')\n",
    "print(matrix)"
   ]
  },
  {
   "cell_type": "code",
   "execution_count": 13,
   "metadata": {},
   "outputs": [
    {
     "name": "stderr",
     "output_type": "stream",
     "text": [
      "<ipython-input-13-0bbc14a3a415>:7: FutureWarning: Indexing with multiple keys (implicitly converted to a tuple of keys) will be deprecated, use a list instead.\n",
      "  temp = groups['user_id', 'item_id', 'cat_id', 'brand_id'].nunique().reset_index().rename(columns={'user_id':'m2', 'item_id':'m3', 'cat_id':'m4', 'brand_id':'m5'})\n"
     ]
    },
    {
     "name": "stdout",
     "output_type": "stream",
     "text": [
      "        user_id  merchant_id label origin  age_range  gender    u1    u2  u3  \\\n",
      "0         34176         3906   0.0  train          6       0   451   256  45   \n",
      "1         34176          121   0.0  train          6       0   451   256  45   \n",
      "2         34176         4356   1.0  train          6       0   451   256  45   \n",
      "3         34176         2217   0.0  train          6       0   451   256  45   \n",
      "4        230784         4818   0.0  train          0       0    54    31  17   \n",
      "...         ...          ...   ...    ...        ...     ...   ...   ...  ..   \n",
      "522336   228479         3111   nan   test          6       0  2004  1173  71   \n",
      "522337    97919         2341   nan   test          8       1    55    29  14   \n",
      "522338    97919         3971   nan   test          8       1    55    29  14   \n",
      "522339    32639         3536   nan   test          0       0    72    46  24   \n",
      "522340    32639         3319   nan   test          0       0    72    46  24   \n",
      "\n",
      "         u4  ...     m1     m2    m3   m4  m5       m6     m7      m8      m9  \\\n",
      "0       109  ...  16269   5819   308   20   2  14870.0   28.0   410.0   961.0   \n",
      "1       109  ...  79865  10931  1179   26   2  72265.0  121.0  4780.0  2699.0   \n",
      "2       109  ...   7269   2281    67   15   2   6094.0   16.0   963.0   196.0   \n",
      "3       109  ...  60202  16870   377    5   2  52230.0  101.0  3721.0  4150.0   \n",
      "4        20  ...  48089   7500   461   27   2  43268.0  129.0  2733.0  1959.0   \n",
      "...     ...  ...    ...    ...   ...  ...  ..      ...    ...     ...     ...   \n",
      "522336  278  ...  10105   4154   542   50  18   8997.0    9.0   687.0   412.0   \n",
      "522337   17  ...   5543   1592   352   93  19   4548.0    6.0   815.0   174.0   \n",
      "522338   17  ...  28892   7587   272    7   2  24602.0   94.0  2608.0  1588.0   \n",
      "522339   33  ...  14027   4956   322   19   3  12807.0   29.0   793.0   398.0   \n",
      "522340   33  ...  25959   7927   952  175  85  21737.0   34.0  2700.0  1488.0   \n",
      "\n",
      "         m10  \n",
      "0       2861  \n",
      "1       4530  \n",
      "2       1088  \n",
      "3       7268  \n",
      "4       3102  \n",
      "...      ...  \n",
      "522336  1982  \n",
      "522337   703  \n",
      "522338  3050  \n",
      "522339  2177  \n",
      "522340  3607  \n",
      "\n",
      "[522341 rows x 26 columns]\n"
     ]
    }
   ],
   "source": [
    "# 商家特征处理\n",
    "groups = user_log.groupby(['merchant_id'])\n",
    "# 商家被交互行为数量 m1\n",
    "temp = groups.size().reset_index().rename(columns={0:'m1'})\n",
    "matrix = matrix.merge(temp, on='merchant_id', how='left')\n",
    "# 统计商家被交互的user_id, item_id, cat_id, brand_id 唯一值\n",
    "temp = groups['user_id', 'item_id', 'cat_id', 'brand_id'].nunique().reset_index().rename(columns={'user_id':'m2', 'item_id':'m3', 'cat_id':'m4', 'brand_id':'m5'})\n",
    "matrix = matrix.merge(temp, on='merchant_id', how='left')\n",
    "# 统计商家被交互的action_type 唯一值\n",
    "temp = groups['action_type'].value_counts().unstack().reset_index().rename(columns={0:'m6', 1:'m7', 2:'m8', 3:'m9'})\n",
    "matrix = matrix.merge(temp, on='merchant_id', how='left')\n",
    "# 按照merchant_id 统计随机负采样的个数\n",
    "temp = train_data[train_data['label']==-1].groupby(['merchant_id']).size().reset_index().rename(columns={0:'m10'})\n",
    "matrix = matrix.merge(temp, on='merchant_id', how='left')\n",
    "print(matrix)"
   ]
  },
  {
   "cell_type": "code",
   "execution_count": 14,
   "metadata": {},
   "outputs": [
    {
     "name": "stderr",
     "output_type": "stream",
     "text": [
      "<ipython-input-14-10b202c0bf01>:5: FutureWarning: Indexing with multiple keys (implicitly converted to a tuple of keys) will be deprecated, use a list instead.\n",
      "  temp = groups['item_id', 'cat_id', 'brand_id'].nunique().reset_index().rename(columns={'item_id':'um2', 'cat_id':'um3', 'brand_id':'um4'}) #统计item_id, cat_id, brand_id唯一个数\n"
     ]
    },
    {
     "name": "stdout",
     "output_type": "stream",
     "text": [
      "        user_id  merchant_id label origin  age_range  gender    u1    u2  u3  \\\n",
      "0         34176         3906   0.0  train          6       0   451   256  45   \n",
      "1         34176          121   0.0  train          6       0   451   256  45   \n",
      "2         34176         4356   1.0  train          6       0   451   256  45   \n",
      "3         34176         2217   0.0  train          6       0   451   256  45   \n",
      "4        230784         4818   0.0  train          0       0    54    31  17   \n",
      "...         ...          ...   ...    ...        ...     ...   ...   ...  ..   \n",
      "522336   228479         3111   nan   test          6       0  2004  1173  71   \n",
      "522337    97919         2341   nan   test          8       1    55    29  14   \n",
      "522338    97919         3971   nan   test          8       1    55    29  14   \n",
      "522339    32639         3536   nan   test          0       0    72    46  24   \n",
      "522340    32639         3319   nan   test          0       0    72    46  24   \n",
      "\n",
      "         u4  ...   m10  um1  um2  um3  um4   um5  um6  um7  um8       um9  \n",
      "0       109  ...  2861   39   20    6    1  36.0  NaN  1.0  2.0  0.850000  \n",
      "1       109  ...  4530   14    1    1    1  13.0  NaN  1.0  NaN  0.050000  \n",
      "2       109  ...  1088   18    2    1    1  12.0  NaN  6.0  NaN  0.016667  \n",
      "3       109  ...  7268    2    1    1    1   1.0  NaN  1.0  NaN  0.000000  \n",
      "4        20  ...  3102    8    1    1    1   7.0  NaN  1.0  NaN  0.050000  \n",
      "...     ...  ...   ...  ...  ...  ...  ...   ...  ...  ...  ...       ...  \n",
      "522336  278  ...  1982    5    2    1    1   4.0  NaN  1.0  NaN  0.016667  \n",
      "522337   17  ...   703    2    1    1    1   1.0  NaN  1.0  NaN  0.000000  \n",
      "522338   17  ...  3050   16    5    2    1  12.0  NaN  4.0  NaN  0.150000  \n",
      "522339   33  ...  2177    3    2    1    1   2.0  NaN  1.0  NaN  0.000000  \n",
      "522340   33  ...  3607   11    1    1    1  10.0  NaN  1.0  NaN  0.016667  \n",
      "\n",
      "[522341 rows x 35 columns]\n"
     ]
    }
   ],
   "source": [
    "# 按照user_id, merchant_id分组\n",
    "groups = user_log.groupby(['user_id', 'merchant_id'])\n",
    "temp = groups.size().reset_index().rename(columns={0:'um1'}) #统计行为个数\n",
    "matrix = matrix.merge(temp, on=['user_id', 'merchant_id'], how='left')\n",
    "temp = groups['item_id', 'cat_id', 'brand_id'].nunique().reset_index().rename(columns={'item_id':'um2', 'cat_id':'um3', 'brand_id':'um4'}) #统计item_id, cat_id, brand_id唯一个数\n",
    "matrix = matrix.merge(temp, on=['user_id', 'merchant_id'], how='left')\n",
    "temp = groups['action_type'].value_counts().unstack().reset_index().rename(columns={0:'um5', 1:'um6', 2:'um7', 3:'um8'})#统计不同action_type唯一个数\n",
    "matrix = matrix.merge(temp, on=['user_id', 'merchant_id'], how='left')\n",
    "temp = groups['time_stamp'].agg([('first', 'min'), ('last', 'max')]).reset_index()\n",
    "temp['um9'] = (temp['last'] - temp['first']).dt.seconds/3600\n",
    "temp.drop(['first', 'last'], axis=1, inplace=True)\n",
    "matrix = matrix.merge(temp, on=['user_id', 'merchant_id'], how='left') #统计时间间隔\n",
    "print(matrix)"
   ]
  },
  {
   "cell_type": "code",
   "execution_count": 15,
   "metadata": {},
   "outputs": [],
   "source": [
    "#用户购买点击比\n",
    "matrix['r1'] = matrix['u9']/matrix['u7'] \n",
    "#商家购买点击比\n",
    "matrix['r2'] = matrix['m8']/matrix['m6'] \n",
    "#不同用户不同商家购买点击比\n",
    "matrix['r3'] = matrix['um7']/matrix['um5']\n",
    "matrix.fillna(0, inplace=True)"
   ]
  },
  {
   "cell_type": "code",
   "execution_count": 16,
   "metadata": {},
   "outputs": [
    {
     "name": "stdout",
     "output_type": "stream",
     "text": [
      "        user_id  merchant_id label origin    u1    u2  u3   u4   u5        u6  \\\n",
      "0         34176         3906   0.0  train   451   256  45  109  108  5.833333   \n",
      "1         34176          121   0.0  train   451   256  45  109  108  5.833333   \n",
      "2         34176         4356   1.0  train   451   256  45  109  108  5.833333   \n",
      "3         34176         2217   0.0  train   451   256  45  109  108  5.833333   \n",
      "4        230784         4818   0.0  train    54    31  17   20   19  5.166667   \n",
      "...         ...          ...   ...    ...   ...   ...  ..  ...  ...       ...   \n",
      "522336   228479         3111   nan   test  2004  1173  71  278  282  6.000000   \n",
      "522337    97919         2341   nan   test    55    29  14   17   17  4.750000   \n",
      "522338    97919         3971   nan   test    55    29  14   17   17  4.750000   \n",
      "522339    32639         3536   nan   test    72    46  24   33   35  5.800000   \n",
      "522340    32639         3319   nan   test    72    46  24   33   35  5.800000   \n",
      "\n",
      "        ...  age_2  age_3  age_4  age_5  age_6  age_7  age_8  g_0  g_1  g_2  \n",
      "0       ...      0      0      0      0      1      0      0    1    0    0  \n",
      "1       ...      0      0      0      0      1      0      0    1    0    0  \n",
      "2       ...      0      0      0      0      1      0      0    1    0    0  \n",
      "3       ...      0      0      0      0      1      0      0    1    0    0  \n",
      "4       ...      0      0      0      0      0      0      0    1    0    0  \n",
      "...     ...    ...    ...    ...    ...    ...    ...    ...  ...  ...  ...  \n",
      "522336  ...      0      0      0      0      1      0      0    1    0    0  \n",
      "522337  ...      0      0      0      0      0      0      1    0    1    0  \n",
      "522338  ...      0      0      0      0      0      0      1    0    1    0  \n",
      "522339  ...      0      0      0      0      0      0      0    1    0    0  \n",
      "522340  ...      0      0      0      0      0      0      0    1    0    0  \n",
      "\n",
      "[522341 rows x 48 columns]\n"
     ]
    }
   ],
   "source": [
    "# # 修改age_range字段名称为 age_0, age_1, age_2... age_8\n",
    "temp = pd.get_dummies(matrix['age_range'], prefix='age')\n",
    "matrix = pd.concat([matrix, temp], axis=1)\n",
    "temp = pd.get_dummies(matrix['gender'], prefix='g')\n",
    "matrix = pd.concat([matrix, temp], axis=1)\n",
    "matrix.drop(['age_range', 'gender'], axis=1, inplace=True)\n",
    "print(matrix)"
   ]
  },
  {
   "cell_type": "code",
   "execution_count": 17,
   "metadata": {},
   "outputs": [
    {
     "data": {
      "text/plain": [
       "84"
      ]
     },
     "execution_count": 17,
     "metadata": {},
     "output_type": "execute_result"
    }
   ],
   "source": [
    "# 分割训练数据和测试数据\n",
    "train_data = matrix[matrix['origin'] == 'train'].drop(['origin'], axis=1)\n",
    "test_data = matrix[matrix['origin'] == 'test'].drop(['label', 'origin'], axis=1)\n",
    "train_X, train_y = train_data.drop(['label'], axis=1), train_data['label']\n",
    "del temp, matrix\n",
    "gc.collect()"
   ]
  },
  {
   "cell_type": "code",
   "execution_count": 18,
   "metadata": {},
   "outputs": [],
   "source": [
    "# 使用机器学习工具\n",
    "from sklearn.model_selection import train_test_split\n",
    "from sklearn.ensemble import RandomForestClassifier\n",
    "from sklearn.linear_model import LinearRegression\n",
    "from sklearn.metrics import classification_report\n",
    "import xgboost as xgb\n"
   ]
  },
  {
   "cell_type": "code",
   "execution_count": 19,
   "metadata": {},
   "outputs": [],
   "source": [
    "# 将训练集进行切分，20%用于验证\n",
    "X_train, X_valid, y_train, y_valid = train_test_split(train_X, train_y, test_size=.2)"
   ]
  },
  {
   "cell_type": "code",
   "execution_count": 20,
   "metadata": {},
   "outputs": [],
   "source": [
    "# 使用XGBoost\n",
    "model = xgb.XGBClassifier(\n",
    "    max_depth=8,\n",
    "    n_estimators=1000,\n",
    "    min_child_weight=300, \n",
    "    colsample_bytree=0.8, \n",
    "    subsample=0.8, \n",
    "    eta=0.3,    \n",
    "    seed=42    \n",
    ")"
   ]
  },
  {
   "cell_type": "code",
   "execution_count": 21,
   "metadata": {},
   "outputs": [
    {
     "name": "stdout",
     "output_type": "stream",
     "text": [
      "[0]\tvalidation_0-auc:0.62849\tvalidation_1-auc:0.62782\n",
      "Multiple eval metrics have been passed: 'validation_1-auc' will be used for early stopping.\n",
      "\n",
      "Will train until validation_1-auc hasn't improved in 10 rounds.\n",
      "[1]\tvalidation_0-auc:0.64811\tvalidation_1-auc:0.64210\n",
      "[2]\tvalidation_0-auc:0.65415\tvalidation_1-auc:0.64820\n",
      "[3]\tvalidation_0-auc:0.65828\tvalidation_1-auc:0.64986\n",
      "[4]\tvalidation_0-auc:0.65969\tvalidation_1-auc:0.65257\n",
      "[5]\tvalidation_0-auc:0.66278\tvalidation_1-auc:0.65538\n",
      "[6]\tvalidation_0-auc:0.66459\tvalidation_1-auc:0.65361\n",
      "[7]\tvalidation_0-auc:0.66524\tvalidation_1-auc:0.65488\n",
      "[8]\tvalidation_0-auc:0.66687\tvalidation_1-auc:0.65558\n",
      "[9]\tvalidation_0-auc:0.66841\tvalidation_1-auc:0.65775\n",
      "[10]\tvalidation_0-auc:0.66995\tvalidation_1-auc:0.65773\n",
      "[11]\tvalidation_0-auc:0.67174\tvalidation_1-auc:0.65840\n",
      "[12]\tvalidation_0-auc:0.67326\tvalidation_1-auc:0.65860\n",
      "[13]\tvalidation_0-auc:0.67426\tvalidation_1-auc:0.65777\n",
      "[14]\tvalidation_0-auc:0.67575\tvalidation_1-auc:0.65851\n",
      "[15]\tvalidation_0-auc:0.67770\tvalidation_1-auc:0.66039\n",
      "[16]\tvalidation_0-auc:0.68090\tvalidation_1-auc:0.66263\n",
      "[17]\tvalidation_0-auc:0.68182\tvalidation_1-auc:0.66292\n",
      "[18]\tvalidation_0-auc:0.68332\tvalidation_1-auc:0.66439\n",
      "[19]\tvalidation_0-auc:0.68615\tvalidation_1-auc:0.66670\n",
      "[20]\tvalidation_0-auc:0.68746\tvalidation_1-auc:0.66654\n",
      "[21]\tvalidation_0-auc:0.68871\tvalidation_1-auc:0.66725\n",
      "[22]\tvalidation_0-auc:0.69069\tvalidation_1-auc:0.66857\n",
      "[23]\tvalidation_0-auc:0.69173\tvalidation_1-auc:0.66879\n",
      "[24]\tvalidation_0-auc:0.69273\tvalidation_1-auc:0.66944\n",
      "[25]\tvalidation_0-auc:0.69399\tvalidation_1-auc:0.66996\n",
      "[26]\tvalidation_0-auc:0.69458\tvalidation_1-auc:0.67002\n",
      "[27]\tvalidation_0-auc:0.69535\tvalidation_1-auc:0.67044\n",
      "[28]\tvalidation_0-auc:0.69694\tvalidation_1-auc:0.67134\n",
      "[29]\tvalidation_0-auc:0.69817\tvalidation_1-auc:0.67061\n",
      "[30]\tvalidation_0-auc:0.69852\tvalidation_1-auc:0.67058\n",
      "[31]\tvalidation_0-auc:0.69946\tvalidation_1-auc:0.67100\n",
      "[32]\tvalidation_0-auc:0.70040\tvalidation_1-auc:0.67073\n",
      "[33]\tvalidation_0-auc:0.70136\tvalidation_1-auc:0.67080\n",
      "[34]\tvalidation_0-auc:0.70223\tvalidation_1-auc:0.67058\n",
      "[35]\tvalidation_0-auc:0.70304\tvalidation_1-auc:0.67081\n",
      "[36]\tvalidation_0-auc:0.70403\tvalidation_1-auc:0.67159\n",
      "[37]\tvalidation_0-auc:0.70485\tvalidation_1-auc:0.67191\n",
      "[38]\tvalidation_0-auc:0.70586\tvalidation_1-auc:0.67151\n",
      "[39]\tvalidation_0-auc:0.70627\tvalidation_1-auc:0.67175\n",
      "[40]\tvalidation_0-auc:0.70695\tvalidation_1-auc:0.67262\n",
      "[41]\tvalidation_0-auc:0.70763\tvalidation_1-auc:0.67252\n",
      "[42]\tvalidation_0-auc:0.70812\tvalidation_1-auc:0.67259\n",
      "[43]\tvalidation_0-auc:0.70867\tvalidation_1-auc:0.67258\n",
      "[44]\tvalidation_0-auc:0.70909\tvalidation_1-auc:0.67275\n",
      "[45]\tvalidation_0-auc:0.70974\tvalidation_1-auc:0.67300\n",
      "[46]\tvalidation_0-auc:0.71076\tvalidation_1-auc:0.67339\n",
      "[47]\tvalidation_0-auc:0.71121\tvalidation_1-auc:0.67358\n",
      "[48]\tvalidation_0-auc:0.71179\tvalidation_1-auc:0.67371\n",
      "[49]\tvalidation_0-auc:0.71204\tvalidation_1-auc:0.67362\n",
      "[50]\tvalidation_0-auc:0.71248\tvalidation_1-auc:0.67423\n",
      "[51]\tvalidation_0-auc:0.71316\tvalidation_1-auc:0.67469\n",
      "[52]\tvalidation_0-auc:0.71368\tvalidation_1-auc:0.67518\n",
      "[53]\tvalidation_0-auc:0.71452\tvalidation_1-auc:0.67549\n",
      "[54]\tvalidation_0-auc:0.71495\tvalidation_1-auc:0.67604\n",
      "[55]\tvalidation_0-auc:0.71596\tvalidation_1-auc:0.67661\n",
      "[56]\tvalidation_0-auc:0.71623\tvalidation_1-auc:0.67655\n",
      "[57]\tvalidation_0-auc:0.71680\tvalidation_1-auc:0.67583\n",
      "[58]\tvalidation_0-auc:0.71738\tvalidation_1-auc:0.67537\n",
      "[59]\tvalidation_0-auc:0.71798\tvalidation_1-auc:0.67541\n",
      "[60]\tvalidation_0-auc:0.71870\tvalidation_1-auc:0.67532\n",
      "[61]\tvalidation_0-auc:0.71906\tvalidation_1-auc:0.67549\n",
      "[62]\tvalidation_0-auc:0.71989\tvalidation_1-auc:0.67506\n",
      "[63]\tvalidation_0-auc:0.72022\tvalidation_1-auc:0.67471\n",
      "[64]\tvalidation_0-auc:0.72076\tvalidation_1-auc:0.67451\n",
      "[65]\tvalidation_0-auc:0.72149\tvalidation_1-auc:0.67440\n",
      "Stopping. Best iteration:\n",
      "[55]\tvalidation_0-auc:0.71596\tvalidation_1-auc:0.67661\n",
      "\n"
     ]
    },
    {
     "data": {
      "text/plain": [
       "XGBClassifier(base_score=0.5, booster='gbtree', colsample_bylevel=1,\n",
       "              colsample_bynode=1, colsample_bytree=0.8, eta=0.3, gamma=0,\n",
       "              gpu_id=-1, importance_type='gain', interaction_constraints='',\n",
       "              learning_rate=0.300000012, max_delta_step=0, max_depth=8,\n",
       "              min_child_weight=300, missing=nan, monotone_constraints='()',\n",
       "              n_estimators=1000, n_jobs=0, num_parallel_tree=1, random_state=42,\n",
       "              reg_alpha=0, reg_lambda=1, scale_pos_weight=1, seed=42,\n",
       "              subsample=0.8, tree_method='exact', validate_parameters=1,\n",
       "              verbosity=None)"
      ]
     },
     "execution_count": 21,
     "metadata": {},
     "output_type": "execute_result"
    }
   ],
   "source": [
    "model.fit(\n",
    "    X_train, y_train,\n",
    "    eval_metric='auc', eval_set=[(X_train, y_train), (X_valid, y_valid)],\n",
    "    verbose=True,\n",
    "    #早停法，如果auc在10epoch没有进步就stop\n",
    "    early_stopping_rounds=10 \n",
    ")"
   ]
  },
  {
   "cell_type": "code",
   "execution_count": 22,
   "metadata": {},
   "outputs": [],
   "source": [
    "\n",
    "model.fit(X_train, y_train)\n",
    "\n",
    "prob = model.predict_proba(test_data)\n",
    "submission['prob'] = pd.Series(prob[:,1])\n",
    "submission.drop(['origin'], axis=1, inplace=True)\n",
    "submission.to_csv('prediction.csv', index=False)"
   ]
  },
  {
   "attachments": {
    "Screen%20Shot%202021-03-03%20at%208.07.45%20pm.png": {
     "image/png": "[encoded data removed]"
    }
   },
   "cell_type": "markdown",
   "metadata": {},
   "source": [
    "score = 0.6769\n",
    "![Screen%20Shot%202021-03-03%20at%208.07.45%20pm.png](attachment:Screen%20Shot%202021-03-03%20at%208.07.45%20pm.png)"
   ]
  }
 ],
 "metadata": {
  "kernelspec": {
   "display_name": "Python 3",
   "language": "python",
   "name": "python3"
  },
  "language_info": {
   "codemirror_mode": {
    "name": "ipython",
    "version": 3
   },
   "file_extension": ".py",
   "mimetype": "text/x-python",
   "name": "python",
   "nbconvert_exporter": "python",
   "pygments_lexer": "ipython3",
   "version": "3.8.3"
  }
 },
 "nbformat": 4,
 "nbformat_minor": 4
}
