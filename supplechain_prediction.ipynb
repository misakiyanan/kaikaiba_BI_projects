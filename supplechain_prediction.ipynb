{
 "cells": [
  {
   "cell_type": "markdown",
   "metadata": {},
   "source": [
    "## Project: supply chain\n",
    "BI名企班 谢雅楠"
   ]
  },
  {
   "cell_type": "code",
   "execution_count": 5,
   "metadata": {},
   "outputs": [],
   "source": [
    "import pandas as pd\n",
    "import numpy as np\n",
    "import matplotlib.pyplot as plt\n",
    "import seaborn as sns\n",
    "\n",
    "import pickle\n"
   ]
  },
  {
   "cell_type": "code",
   "execution_count": 8,
   "metadata": {},
   "outputs": [
    {
     "data": {
      "text/html": [
       "<div>\n",
       "<style scoped>\n",
       "    .dataframe tbody tr th:only-of-type {\n",
       "        vertical-align: middle;\n",
       "    }\n",
       "\n",
       "    .dataframe tbody tr th {\n",
       "        vertical-align: top;\n",
       "    }\n",
       "\n",
       "    .dataframe thead th {\n",
       "        text-align: right;\n",
       "    }\n",
       "</style>\n",
       "<table border=\"1\" class=\"dataframe\">\n",
       "  <thead>\n",
       "    <tr style=\"text-align: right;\">\n",
       "      <th></th>\n",
       "      <th>Type</th>\n",
       "      <th>Days for shipping (real)</th>\n",
       "      <th>Days for shipment (scheduled)</th>\n",
       "      <th>Benefit per order</th>\n",
       "      <th>Sales per customer</th>\n",
       "      <th>Delivery Status</th>\n",
       "      <th>Late_delivery_risk</th>\n",
       "      <th>Category Id</th>\n",
       "      <th>Category Name</th>\n",
       "      <th>Customer City</th>\n",
       "      <th>...</th>\n",
       "      <th>Product Price</th>\n",
       "      <th>Product Status</th>\n",
       "      <th>shipping date (DateOrders)</th>\n",
       "      <th>Shipping Mode</th>\n",
       "      <th>Customer Full Name</th>\n",
       "      <th>order_year</th>\n",
       "      <th>order_month</th>\n",
       "      <th>order_week_day</th>\n",
       "      <th>order_hour</th>\n",
       "      <th>order_month_year</th>\n",
       "    </tr>\n",
       "  </thead>\n",
       "  <tbody>\n",
       "    <tr>\n",
       "      <th>0</th>\n",
       "      <td>DEBIT</td>\n",
       "      <td>3</td>\n",
       "      <td>4</td>\n",
       "      <td>91.250000</td>\n",
       "      <td>314.640015</td>\n",
       "      <td>Advance shipping</td>\n",
       "      <td>0</td>\n",
       "      <td>73</td>\n",
       "      <td>Sporting Goods</td>\n",
       "      <td>Caguas</td>\n",
       "      <td>...</td>\n",
       "      <td>327.750000</td>\n",
       "      <td>0</td>\n",
       "      <td>2/3/2018 22:56</td>\n",
       "      <td>Standard Class</td>\n",
       "      <td>HollowayCally</td>\n",
       "      <td>2018</td>\n",
       "      <td>1</td>\n",
       "      <td>2</td>\n",
       "      <td>22</td>\n",
       "      <td>2018-01</td>\n",
       "    </tr>\n",
       "    <tr>\n",
       "      <th>1</th>\n",
       "      <td>TRANSFER</td>\n",
       "      <td>5</td>\n",
       "      <td>4</td>\n",
       "      <td>-249.089996</td>\n",
       "      <td>311.359985</td>\n",
       "      <td>Late delivery</td>\n",
       "      <td>1</td>\n",
       "      <td>73</td>\n",
       "      <td>Sporting Goods</td>\n",
       "      <td>Caguas</td>\n",
       "      <td>...</td>\n",
       "      <td>327.750000</td>\n",
       "      <td>0</td>\n",
       "      <td>1/18/2018 12:27</td>\n",
       "      <td>Standard Class</td>\n",
       "      <td>LunaIrene</td>\n",
       "      <td>2018</td>\n",
       "      <td>1</td>\n",
       "      <td>5</td>\n",
       "      <td>12</td>\n",
       "      <td>2018-01</td>\n",
       "    </tr>\n",
       "    <tr>\n",
       "      <th>2</th>\n",
       "      <td>CASH</td>\n",
       "      <td>4</td>\n",
       "      <td>4</td>\n",
       "      <td>-247.779999</td>\n",
       "      <td>309.720001</td>\n",
       "      <td>Shipping on time</td>\n",
       "      <td>0</td>\n",
       "      <td>73</td>\n",
       "      <td>Sporting Goods</td>\n",
       "      <td>San Jose</td>\n",
       "      <td>...</td>\n",
       "      <td>327.750000</td>\n",
       "      <td>0</td>\n",
       "      <td>1/17/2018 12:06</td>\n",
       "      <td>Standard Class</td>\n",
       "      <td>MaldonadoGillian</td>\n",
       "      <td>2018</td>\n",
       "      <td>1</td>\n",
       "      <td>5</td>\n",
       "      <td>12</td>\n",
       "      <td>2018-01</td>\n",
       "    </tr>\n",
       "    <tr>\n",
       "      <th>3</th>\n",
       "      <td>DEBIT</td>\n",
       "      <td>3</td>\n",
       "      <td>4</td>\n",
       "      <td>22.860001</td>\n",
       "      <td>304.809998</td>\n",
       "      <td>Advance shipping</td>\n",
       "      <td>0</td>\n",
       "      <td>73</td>\n",
       "      <td>Sporting Goods</td>\n",
       "      <td>Los Angeles</td>\n",
       "      <td>...</td>\n",
       "      <td>327.750000</td>\n",
       "      <td>0</td>\n",
       "      <td>1/16/2018 11:45</td>\n",
       "      <td>Standard Class</td>\n",
       "      <td>TateTana</td>\n",
       "      <td>2018</td>\n",
       "      <td>1</td>\n",
       "      <td>5</td>\n",
       "      <td>11</td>\n",
       "      <td>2018-01</td>\n",
       "    </tr>\n",
       "    <tr>\n",
       "      <th>4</th>\n",
       "      <td>PAYMENT</td>\n",
       "      <td>2</td>\n",
       "      <td>4</td>\n",
       "      <td>134.210007</td>\n",
       "      <td>298.250000</td>\n",
       "      <td>Advance shipping</td>\n",
       "      <td>0</td>\n",
       "      <td>73</td>\n",
       "      <td>Sporting Goods</td>\n",
       "      <td>Caguas</td>\n",
       "      <td>...</td>\n",
       "      <td>327.750000</td>\n",
       "      <td>0</td>\n",
       "      <td>1/15/2018 11:24</td>\n",
       "      <td>Standard Class</td>\n",
       "      <td>HendricksOrli</td>\n",
       "      <td>2018</td>\n",
       "      <td>1</td>\n",
       "      <td>5</td>\n",
       "      <td>11</td>\n",
       "      <td>2018-01</td>\n",
       "    </tr>\n",
       "    <tr>\n",
       "      <th>...</th>\n",
       "      <td>...</td>\n",
       "      <td>...</td>\n",
       "      <td>...</td>\n",
       "      <td>...</td>\n",
       "      <td>...</td>\n",
       "      <td>...</td>\n",
       "      <td>...</td>\n",
       "      <td>...</td>\n",
       "      <td>...</td>\n",
       "      <td>...</td>\n",
       "      <td>...</td>\n",
       "      <td>...</td>\n",
       "      <td>...</td>\n",
       "      <td>...</td>\n",
       "      <td>...</td>\n",
       "      <td>...</td>\n",
       "      <td>...</td>\n",
       "      <td>...</td>\n",
       "      <td>...</td>\n",
       "      <td>...</td>\n",
       "      <td>...</td>\n",
       "    </tr>\n",
       "    <tr>\n",
       "      <th>180514</th>\n",
       "      <td>CASH</td>\n",
       "      <td>4</td>\n",
       "      <td>4</td>\n",
       "      <td>40.000000</td>\n",
       "      <td>399.980011</td>\n",
       "      <td>Shipping on time</td>\n",
       "      <td>0</td>\n",
       "      <td>45</td>\n",
       "      <td>Fishing</td>\n",
       "      <td>Brooklyn</td>\n",
       "      <td>...</td>\n",
       "      <td>399.980011</td>\n",
       "      <td>0</td>\n",
       "      <td>1/20/2016 3:40</td>\n",
       "      <td>Standard Class</td>\n",
       "      <td>PetersonMaria</td>\n",
       "      <td>2016</td>\n",
       "      <td>1</td>\n",
       "      <td>5</td>\n",
       "      <td>3</td>\n",
       "      <td>2016-01</td>\n",
       "    </tr>\n",
       "    <tr>\n",
       "      <th>180515</th>\n",
       "      <td>DEBIT</td>\n",
       "      <td>3</td>\n",
       "      <td>2</td>\n",
       "      <td>-613.770019</td>\n",
       "      <td>395.980011</td>\n",
       "      <td>Late delivery</td>\n",
       "      <td>1</td>\n",
       "      <td>45</td>\n",
       "      <td>Fishing</td>\n",
       "      <td>Bakersfield</td>\n",
       "      <td>...</td>\n",
       "      <td>399.980011</td>\n",
       "      <td>0</td>\n",
       "      <td>1/19/2016 1:34</td>\n",
       "      <td>Second Class</td>\n",
       "      <td>ClarkRonald</td>\n",
       "      <td>2016</td>\n",
       "      <td>1</td>\n",
       "      <td>5</td>\n",
       "      <td>1</td>\n",
       "      <td>2016-01</td>\n",
       "    </tr>\n",
       "    <tr>\n",
       "      <th>180516</th>\n",
       "      <td>TRANSFER</td>\n",
       "      <td>5</td>\n",
       "      <td>4</td>\n",
       "      <td>141.110001</td>\n",
       "      <td>391.980011</td>\n",
       "      <td>Late delivery</td>\n",
       "      <td>1</td>\n",
       "      <td>45</td>\n",
       "      <td>Fishing</td>\n",
       "      <td>Bristol</td>\n",
       "      <td>...</td>\n",
       "      <td>399.980011</td>\n",
       "      <td>0</td>\n",
       "      <td>1/20/2016 21:00</td>\n",
       "      <td>Standard Class</td>\n",
       "      <td>SmithJohn</td>\n",
       "      <td>2016</td>\n",
       "      <td>1</td>\n",
       "      <td>4</td>\n",
       "      <td>21</td>\n",
       "      <td>2016-01</td>\n",
       "    </tr>\n",
       "    <tr>\n",
       "      <th>180517</th>\n",
       "      <td>PAYMENT</td>\n",
       "      <td>3</td>\n",
       "      <td>4</td>\n",
       "      <td>186.229996</td>\n",
       "      <td>387.980011</td>\n",
       "      <td>Advance shipping</td>\n",
       "      <td>0</td>\n",
       "      <td>45</td>\n",
       "      <td>Fishing</td>\n",
       "      <td>Caguas</td>\n",
       "      <td>...</td>\n",
       "      <td>399.980011</td>\n",
       "      <td>0</td>\n",
       "      <td>1/18/2016 20:18</td>\n",
       "      <td>Standard Class</td>\n",
       "      <td>SmithMary</td>\n",
       "      <td>2016</td>\n",
       "      <td>1</td>\n",
       "      <td>4</td>\n",
       "      <td>20</td>\n",
       "      <td>2016-01</td>\n",
       "    </tr>\n",
       "    <tr>\n",
       "      <th>180518</th>\n",
       "      <td>PAYMENT</td>\n",
       "      <td>4</td>\n",
       "      <td>4</td>\n",
       "      <td>168.949997</td>\n",
       "      <td>383.980011</td>\n",
       "      <td>Shipping on time</td>\n",
       "      <td>0</td>\n",
       "      <td>45</td>\n",
       "      <td>Fishing</td>\n",
       "      <td>Caguas</td>\n",
       "      <td>...</td>\n",
       "      <td>399.980011</td>\n",
       "      <td>0</td>\n",
       "      <td>1/19/2016 18:54</td>\n",
       "      <td>Standard Class</td>\n",
       "      <td>OrtegaAndrea</td>\n",
       "      <td>2016</td>\n",
       "      <td>1</td>\n",
       "      <td>4</td>\n",
       "      <td>18</td>\n",
       "      <td>2016-01</td>\n",
       "    </tr>\n",
       "  </tbody>\n",
       "</table>\n",
       "<p>180519 rows × 59 columns</p>\n",
       "</div>"
      ],
      "text/plain": [
       "            Type  Days for shipping (real)  Days for shipment (scheduled)  \\\n",
       "0          DEBIT                         3                              4   \n",
       "1       TRANSFER                         5                              4   \n",
       "2           CASH                         4                              4   \n",
       "3          DEBIT                         3                              4   \n",
       "4        PAYMENT                         2                              4   \n",
       "...          ...                       ...                            ...   \n",
       "180514      CASH                         4                              4   \n",
       "180515     DEBIT                         3                              2   \n",
       "180516  TRANSFER                         5                              4   \n",
       "180517   PAYMENT                         3                              4   \n",
       "180518   PAYMENT                         4                              4   \n",
       "\n",
       "        Benefit per order  Sales per customer   Delivery Status  \\\n",
       "0               91.250000          314.640015  Advance shipping   \n",
       "1             -249.089996          311.359985     Late delivery   \n",
       "2             -247.779999          309.720001  Shipping on time   \n",
       "3               22.860001          304.809998  Advance shipping   \n",
       "4              134.210007          298.250000  Advance shipping   \n",
       "...                   ...                 ...               ...   \n",
       "180514          40.000000          399.980011  Shipping on time   \n",
       "180515        -613.770019          395.980011     Late delivery   \n",
       "180516         141.110001          391.980011     Late delivery   \n",
       "180517         186.229996          387.980011  Advance shipping   \n",
       "180518         168.949997          383.980011  Shipping on time   \n",
       "\n",
       "        Late_delivery_risk  Category Id   Category Name Customer City  ...  \\\n",
       "0                        0           73  Sporting Goods        Caguas  ...   \n",
       "1                        1           73  Sporting Goods        Caguas  ...   \n",
       "2                        0           73  Sporting Goods      San Jose  ...   \n",
       "3                        0           73  Sporting Goods   Los Angeles  ...   \n",
       "4                        0           73  Sporting Goods        Caguas  ...   \n",
       "...                    ...          ...             ...           ...  ...   \n",
       "180514                   0           45         Fishing      Brooklyn  ...   \n",
       "180515                   1           45         Fishing   Bakersfield  ...   \n",
       "180516                   1           45         Fishing       Bristol  ...   \n",
       "180517                   0           45         Fishing        Caguas  ...   \n",
       "180518                   0           45         Fishing        Caguas  ...   \n",
       "\n",
       "       Product Price Product Status shipping date (DateOrders)  \\\n",
       "0         327.750000              0             2/3/2018 22:56   \n",
       "1         327.750000              0            1/18/2018 12:27   \n",
       "2         327.750000              0            1/17/2018 12:06   \n",
       "3         327.750000              0            1/16/2018 11:45   \n",
       "4         327.750000              0            1/15/2018 11:24   \n",
       "...              ...            ...                        ...   \n",
       "180514    399.980011              0             1/20/2016 3:40   \n",
       "180515    399.980011              0             1/19/2016 1:34   \n",
       "180516    399.980011              0            1/20/2016 21:00   \n",
       "180517    399.980011              0            1/18/2016 20:18   \n",
       "180518    399.980011              0            1/19/2016 18:54   \n",
       "\n",
       "         Shipping Mode Customer Full Name order_year order_month  \\\n",
       "0       Standard Class      HollowayCally       2018           1   \n",
       "1       Standard Class          LunaIrene       2018           1   \n",
       "2       Standard Class   MaldonadoGillian       2018           1   \n",
       "3       Standard Class           TateTana       2018           1   \n",
       "4       Standard Class      HendricksOrli       2018           1   \n",
       "...                ...                ...        ...         ...   \n",
       "180514  Standard Class      PetersonMaria       2016           1   \n",
       "180515    Second Class        ClarkRonald       2016           1   \n",
       "180516  Standard Class          SmithJohn       2016           1   \n",
       "180517  Standard Class          SmithMary       2016           1   \n",
       "180518  Standard Class       OrtegaAndrea       2016           1   \n",
       "\n",
       "       order_week_day order_hour  order_month_year  \n",
       "0                   2         22           2018-01  \n",
       "1                   5         12           2018-01  \n",
       "2                   5         12           2018-01  \n",
       "3                   5         11           2018-01  \n",
       "4                   5         11           2018-01  \n",
       "...               ...        ...               ...  \n",
       "180514              5          3           2016-01  \n",
       "180515              5          1           2016-01  \n",
       "180516              4         21           2016-01  \n",
       "180517              4         20           2016-01  \n",
       "180518              4         18           2016-01  \n",
       "\n",
       "[180519 rows x 59 columns]"
      ]
     },
     "execution_count": 8,
     "metadata": {},
     "output_type": "execute_result"
    }
   ],
   "source": [
    "## load data\n",
    "with open('data.pkl', 'rb') as file:\n",
    "    train_data = pickle.load(file)\n",
    "train_data"
   ]
  },
  {
   "cell_type": "code",
   "execution_count": 10,
   "metadata": {},
   "outputs": [
    {
     "data": {
      "text/plain": [
       "4062"
      ]
     },
     "execution_count": 10,
     "metadata": {},
     "output_type": "execute_result"
    }
   ],
   "source": [
    "## fraud\n",
    "train_data['fraud'] = np.where(train_data['Order Status'] == 'SUSPECTED_FRAUD', 1, 0)\n",
    "train_data['fraud']\n",
    "train_data['fraud'].sum()"
   ]
  },
  {
   "cell_type": "code",
   "execution_count": 12,
   "metadata": {},
   "outputs": [
    {
     "data": {
      "text/plain": [
       "98977"
      ]
     },
     "execution_count": 12,
     "metadata": {},
     "output_type": "execute_result"
    }
   ],
   "source": [
    "## late delivery\n",
    "train_data['late_delivery'] = np.where(train_data['Delivery Status'] == 'Late delivery', 1, 0)\n",
    "train_data['late_delivery'].sum()"
   ]
  },
  {
   "cell_type": "code",
   "execution_count": 17,
   "metadata": {},
   "outputs": [
    {
     "name": "stdout",
     "output_type": "stream",
     "text": [
      "Customer Email\n",
      "Customer Password\n",
      "Product Description\n",
      "Product Status\n"
     ]
    }
   ],
   "source": [
    "for column in train_data.columns:\n",
    "    if len(train_data[column].value_counts()) < 2:\n",
    "        print(column)"
   ]
  },
  {
   "cell_type": "code",
   "execution_count": 20,
   "metadata": {},
   "outputs": [],
   "source": [
    "train_data.drop(\n",
    "    ['Customer Email',\n",
    "     'Customer Password',\n",
    "     'Product Description',\n",
    "     'Product Status',\n",
    "     'Product Image',\n",
    "     'Product Description',\n",
    "     'Customer Lname',\n",
    "     'Customer Fname',\n",
    "     'Customer Full Name'\n",
    "     ], axis=1, inplace=True)"
   ]
  },
  {
   "cell_type": "code",
   "execution_count": 22,
   "metadata": {},
   "outputs": [],
   "source": [
    "train_data.drop(\n",
    "    ['Order Customer Id',\n",
    "     'Order Item Cardprod Id',\n",
    "     'Order Item Id',\n",
    "     'Sales per customer',\n",
    "     'Order Item Total',\n",
    "     'Order Profit Per Order',\n",
    "     'Product Card Id',\n",
    "     'Product Category Id',\n",
    "     'Product Price'\n",
    "     ], axis=1, inplace=True)"
   ]
  },
  {
   "cell_type": "code",
   "execution_count": 25,
   "metadata": {},
   "outputs": [],
   "source": [
    "train_data.drop(\n",
    "    ['Order Zipcode',\n",
    "     'shipping date (DateOrders)',\n",
    "     'Latitude',\n",
    "     'Longitude',\n",
    "     'Customer Street'\n",
    "     ], axis=1, inplace=True)"
   ]
  },
  {
   "cell_type": "code",
   "execution_count": 27,
   "metadata": {},
   "outputs": [
    {
     "data": {
      "text/plain": [
       "Index(['Type', 'Delivery Status', 'Category Name', 'Customer City',\n",
       "       'Customer Country', 'Customer Segment', 'Customer State',\n",
       "       'Department Name', 'Market', 'Order City', 'Order Country',\n",
       "       'Order Region', 'Order State', 'Order Status', 'Product Name',\n",
       "       'Shipping Mode'],\n",
       "      dtype='object')"
      ]
     },
     "execution_count": 27,
     "metadata": {},
     "output_type": "execute_result"
    }
   ],
   "source": [
    "## categorical variables\n",
    "categorical_cols = train_data.select_dtypes(include='object').columns\n",
    "categorical_cols"
   ]
  },
  {
   "cell_type": "code",
   "execution_count": 29,
   "metadata": {},
   "outputs": [
    {
     "data": {
      "text/html": [
       "<div>\n",
       "<style scoped>\n",
       "    .dataframe tbody tr th:only-of-type {\n",
       "        vertical-align: middle;\n",
       "    }\n",
       "\n",
       "    .dataframe tbody tr th {\n",
       "        vertical-align: top;\n",
       "    }\n",
       "\n",
       "    .dataframe thead th {\n",
       "        text-align: right;\n",
       "    }\n",
       "</style>\n",
       "<table border=\"1\" class=\"dataframe\">\n",
       "  <thead>\n",
       "    <tr style=\"text-align: right;\">\n",
       "      <th></th>\n",
       "      <th>Type</th>\n",
       "      <th>Delivery Status</th>\n",
       "      <th>Category Name</th>\n",
       "      <th>Customer City</th>\n",
       "      <th>Customer Country</th>\n",
       "      <th>Customer Segment</th>\n",
       "      <th>Customer State</th>\n",
       "      <th>Department Name</th>\n",
       "      <th>Market</th>\n",
       "      <th>Order City</th>\n",
       "      <th>Order Country</th>\n",
       "      <th>Order Region</th>\n",
       "      <th>Order State</th>\n",
       "      <th>Order Status</th>\n",
       "      <th>Product Name</th>\n",
       "      <th>Shipping Mode</th>\n",
       "    </tr>\n",
       "  </thead>\n",
       "  <tbody>\n",
       "    <tr>\n",
       "      <th>0</th>\n",
       "      <td>1</td>\n",
       "      <td>0</td>\n",
       "      <td>40</td>\n",
       "      <td>66</td>\n",
       "      <td>1</td>\n",
       "      <td>0</td>\n",
       "      <td>36</td>\n",
       "      <td>4</td>\n",
       "      <td>3</td>\n",
       "      <td>331</td>\n",
       "      <td>70</td>\n",
       "      <td>15</td>\n",
       "      <td>475</td>\n",
       "      <td>2</td>\n",
       "      <td>78</td>\n",
       "      <td>3</td>\n",
       "    </tr>\n",
       "    <tr>\n",
       "      <th>1</th>\n",
       "      <td>3</td>\n",
       "      <td>1</td>\n",
       "      <td>40</td>\n",
       "      <td>66</td>\n",
       "      <td>1</td>\n",
       "      <td>0</td>\n",
       "      <td>36</td>\n",
       "      <td>4</td>\n",
       "      <td>3</td>\n",
       "      <td>391</td>\n",
       "      <td>69</td>\n",
       "      <td>13</td>\n",
       "      <td>841</td>\n",
       "      <td>5</td>\n",
       "      <td>78</td>\n",
       "      <td>3</td>\n",
       "    </tr>\n",
       "    <tr>\n",
       "      <th>2</th>\n",
       "      <td>0</td>\n",
       "      <td>3</td>\n",
       "      <td>40</td>\n",
       "      <td>452</td>\n",
       "      <td>0</td>\n",
       "      <td>0</td>\n",
       "      <td>5</td>\n",
       "      <td>4</td>\n",
       "      <td>3</td>\n",
       "      <td>391</td>\n",
       "      <td>69</td>\n",
       "      <td>13</td>\n",
       "      <td>841</td>\n",
       "      <td>1</td>\n",
       "      <td>78</td>\n",
       "      <td>3</td>\n",
       "    </tr>\n",
       "    <tr>\n",
       "      <th>3</th>\n",
       "      <td>1</td>\n",
       "      <td>0</td>\n",
       "      <td>40</td>\n",
       "      <td>285</td>\n",
       "      <td>0</td>\n",
       "      <td>2</td>\n",
       "      <td>5</td>\n",
       "      <td>4</td>\n",
       "      <td>3</td>\n",
       "      <td>3226</td>\n",
       "      <td>8</td>\n",
       "      <td>11</td>\n",
       "      <td>835</td>\n",
       "      <td>2</td>\n",
       "      <td>78</td>\n",
       "      <td>3</td>\n",
       "    </tr>\n",
       "    <tr>\n",
       "      <th>4</th>\n",
       "      <td>2</td>\n",
       "      <td>0</td>\n",
       "      <td>40</td>\n",
       "      <td>66</td>\n",
       "      <td>1</td>\n",
       "      <td>1</td>\n",
       "      <td>36</td>\n",
       "      <td>4</td>\n",
       "      <td>3</td>\n",
       "      <td>3226</td>\n",
       "      <td>8</td>\n",
       "      <td>11</td>\n",
       "      <td>835</td>\n",
       "      <td>6</td>\n",
       "      <td>78</td>\n",
       "      <td>3</td>\n",
       "    </tr>\n",
       "    <tr>\n",
       "      <th>...</th>\n",
       "      <td>...</td>\n",
       "      <td>...</td>\n",
       "      <td>...</td>\n",
       "      <td>...</td>\n",
       "      <td>...</td>\n",
       "      <td>...</td>\n",
       "      <td>...</td>\n",
       "      <td>...</td>\n",
       "      <td>...</td>\n",
       "      <td>...</td>\n",
       "      <td>...</td>\n",
       "      <td>...</td>\n",
       "      <td>...</td>\n",
       "      <td>...</td>\n",
       "      <td>...</td>\n",
       "      <td>...</td>\n",
       "    </tr>\n",
       "    <tr>\n",
       "      <th>180514</th>\n",
       "      <td>0</td>\n",
       "      <td>3</td>\n",
       "      <td>18</td>\n",
       "      <td>59</td>\n",
       "      <td>0</td>\n",
       "      <td>2</td>\n",
       "      <td>31</td>\n",
       "      <td>3</td>\n",
       "      <td>3</td>\n",
       "      <td>2922</td>\n",
       "      <td>31</td>\n",
       "      <td>7</td>\n",
       "      <td>913</td>\n",
       "      <td>1</td>\n",
       "      <td>24</td>\n",
       "      <td>3</td>\n",
       "    </tr>\n",
       "    <tr>\n",
       "      <th>180515</th>\n",
       "      <td>1</td>\n",
       "      <td>1</td>\n",
       "      <td>18</td>\n",
       "      <td>26</td>\n",
       "      <td>0</td>\n",
       "      <td>1</td>\n",
       "      <td>5</td>\n",
       "      <td>3</td>\n",
       "      <td>3</td>\n",
       "      <td>1362</td>\n",
       "      <td>77</td>\n",
       "      <td>7</td>\n",
       "      <td>770</td>\n",
       "      <td>2</td>\n",
       "      <td>24</td>\n",
       "      <td>2</td>\n",
       "    </tr>\n",
       "    <tr>\n",
       "      <th>180516</th>\n",
       "      <td>3</td>\n",
       "      <td>1</td>\n",
       "      <td>18</td>\n",
       "      <td>55</td>\n",
       "      <td>0</td>\n",
       "      <td>1</td>\n",
       "      <td>7</td>\n",
       "      <td>3</td>\n",
       "      <td>3</td>\n",
       "      <td>25</td>\n",
       "      <td>8</td>\n",
       "      <td>11</td>\n",
       "      <td>88</td>\n",
       "      <td>5</td>\n",
       "      <td>24</td>\n",
       "      <td>3</td>\n",
       "    </tr>\n",
       "    <tr>\n",
       "      <th>180517</th>\n",
       "      <td>2</td>\n",
       "      <td>0</td>\n",
       "      <td>18</td>\n",
       "      <td>66</td>\n",
       "      <td>1</td>\n",
       "      <td>0</td>\n",
       "      <td>36</td>\n",
       "      <td>3</td>\n",
       "      <td>3</td>\n",
       "      <td>25</td>\n",
       "      <td>8</td>\n",
       "      <td>11</td>\n",
       "      <td>88</td>\n",
       "      <td>6</td>\n",
       "      <td>24</td>\n",
       "      <td>3</td>\n",
       "    </tr>\n",
       "    <tr>\n",
       "      <th>180518</th>\n",
       "      <td>2</td>\n",
       "      <td>3</td>\n",
       "      <td>18</td>\n",
       "      <td>66</td>\n",
       "      <td>1</td>\n",
       "      <td>0</td>\n",
       "      <td>36</td>\n",
       "      <td>3</td>\n",
       "      <td>3</td>\n",
       "      <td>2203</td>\n",
       "      <td>69</td>\n",
       "      <td>13</td>\n",
       "      <td>967</td>\n",
       "      <td>6</td>\n",
       "      <td>24</td>\n",
       "      <td>3</td>\n",
       "    </tr>\n",
       "  </tbody>\n",
       "</table>\n",
       "<p>180519 rows × 16 columns</p>\n",
       "</div>"
      ],
      "text/plain": [
       "        Type  Delivery Status  Category Name  Customer City  Customer Country  \\\n",
       "0          1                0             40             66                 1   \n",
       "1          3                1             40             66                 1   \n",
       "2          0                3             40            452                 0   \n",
       "3          1                0             40            285                 0   \n",
       "4          2                0             40             66                 1   \n",
       "...      ...              ...            ...            ...               ...   \n",
       "180514     0                3             18             59                 0   \n",
       "180515     1                1             18             26                 0   \n",
       "180516     3                1             18             55                 0   \n",
       "180517     2                0             18             66                 1   \n",
       "180518     2                3             18             66                 1   \n",
       "\n",
       "        Customer Segment  Customer State  Department Name  Market  Order City  \\\n",
       "0                      0              36                4       3         331   \n",
       "1                      0              36                4       3         391   \n",
       "2                      0               5                4       3         391   \n",
       "3                      2               5                4       3        3226   \n",
       "4                      1              36                4       3        3226   \n",
       "...                  ...             ...              ...     ...         ...   \n",
       "180514                 2              31                3       3        2922   \n",
       "180515                 1               5                3       3        1362   \n",
       "180516                 1               7                3       3          25   \n",
       "180517                 0              36                3       3          25   \n",
       "180518                 0              36                3       3        2203   \n",
       "\n",
       "        Order Country  Order Region  Order State  Order Status  Product Name  \\\n",
       "0                  70            15          475             2            78   \n",
       "1                  69            13          841             5            78   \n",
       "2                  69            13          841             1            78   \n",
       "3                   8            11          835             2            78   \n",
       "4                   8            11          835             6            78   \n",
       "...               ...           ...          ...           ...           ...   \n",
       "180514             31             7          913             1            24   \n",
       "180515             77             7          770             2            24   \n",
       "180516              8            11           88             5            24   \n",
       "180517              8            11           88             6            24   \n",
       "180518             69            13          967             6            24   \n",
       "\n",
       "        Shipping Mode  \n",
       "0                   3  \n",
       "1                   3  \n",
       "2                   3  \n",
       "3                   3  \n",
       "4                   3  \n",
       "...               ...  \n",
       "180514              3  \n",
       "180515              2  \n",
       "180516              3  \n",
       "180517              3  \n",
       "180518              3  \n",
       "\n",
       "[180519 rows x 16 columns]"
      ]
     },
     "execution_count": 29,
     "metadata": {},
     "output_type": "execute_result"
    }
   ],
   "source": [
    "## label encoding\n",
    "from sklearn.preprocessing import LabelEncoder\n",
    "le = LabelEncoder()\n",
    "for cat in categorical_cols:\n",
    "    train_data[cat] = le.fit_transform(train_data[cat])\n",
    "train_data[categorical_cols]"
   ]
  },
  {
   "cell_type": "code",
   "execution_count": 30,
   "metadata": {},
   "outputs": [
    {
     "data": {
      "text/plain": [
       "['Days for shipping (real)',\n",
       " 'Days for shipment (scheduled)',\n",
       " 'Benefit per order',\n",
       " 'Late_delivery_risk',\n",
       " 'Category Id',\n",
       " 'Customer Id',\n",
       " 'Customer Zipcode',\n",
       " 'Department Id',\n",
       " 'order date (DateOrders)',\n",
       " 'Order Id',\n",
       " 'Order Item Discount',\n",
       " 'Order Item Discount Rate',\n",
       " 'Order Item Product Price',\n",
       " 'Order Item Profit Ratio',\n",
       " 'Order Item Quantity',\n",
       " 'Sales',\n",
       " 'order_year',\n",
       " 'order_month',\n",
       " 'order_week_day',\n",
       " 'order_hour',\n",
       " 'order_month_year',\n",
       " 'fraud',\n",
       " 'late_delivery']"
      ]
     },
     "execution_count": 30,
     "metadata": {},
     "output_type": "execute_result"
    }
   ],
   "source": [
    "## numerical variables\n",
    "numerical_cols = train_data.columns.to_list()\n",
    "for x in categorical_cols.to_list():\n",
    "    numerical_cols.remove(x)\n",
    "numerical_cols"
   ]
  },
  {
   "cell_type": "code",
   "execution_count": null,
   "metadata": {},
   "outputs": [],
   "source": [
    "# period\n",
    "train_data.drop(\n",
    "    ['order date (DateOrders)'\n",
    "     ], axis=1, inplace=True)"
   ]
  },
  {
   "cell_type": "code",
   "execution_count": 40,
   "metadata": {},
   "outputs": [],
   "source": [
    "# timestamp\n",
    "train_data.drop(\n",
    "    ['order_month_year'\n",
    "     ], axis=1, inplace=True)"
   ]
  },
  {
   "cell_type": "code",
   "execution_count": 60,
   "metadata": {},
   "outputs": [],
   "source": [
    "# late fraud\n",
    "train_data.drop(\n",
    "    ['Order Status',\n",
    "     'Delivery Status'], axis=1, inplace=True)"
   ]
  },
  {
   "cell_type": "code",
   "execution_count": 66,
   "metadata": {},
   "outputs": [],
   "source": [
    "train_data.drop(\n",
    "    ['Late_delivery_risk'], axis=1, inplace=True)"
   ]
  },
  {
   "cell_type": "markdown",
   "metadata": {},
   "source": [
    "### 1.Classification\n",
    "对于欺诈订单进行预测，即Order Status='SUSPECTED_FRAUD'"
   ]
  },
  {
   "cell_type": "code",
   "execution_count": 75,
   "metadata": {},
   "outputs": [],
   "source": [
    "from sklearn.metrics import accuracy_score, recall_score, roc_auc_score, f1_score, confusion_matrix\n",
    "def model_stats(model, x_train, x_test, y_train, y_test, name):\n",
    "    model = model.fit(x_train, y_train)\n",
    "    y_pred = model.predict(x_test)\n",
    "    accuracy = accuracy_score(y_pred, y_test)\n",
    "    recall = recall_score(y_pred, y_test)\n",
    "    auc = roc_auc_score(y_pred, y_test)\n",
    "    confusion = confusion_matrix(y_pred, y_test)\n",
    "    f1 = f1_score(y_pred, y_test)\n",
    "    \n",
    "    print('Model Used:', model)\n",
    "    print('{} Accuracy: {}%'.format(name, accuracy*100))\n",
    "    print('{} Recall: {}%'.format(name, recall*100))\n",
    "    print('{} AUC: {}%'.format(name, auc*100))\n",
    "    print('{} F1 score: {}%'.format(name, f1*100))\n",
    "    print('{} Confusion Matrix: \\n{}'.format(name, confusion))\n",
    "    \n",
    "    return"
   ]
  },
  {
   "cell_type": "code",
   "execution_count": 72,
   "metadata": {},
   "outputs": [],
   "source": [
    "## train_data['fraud']\n",
    "x_fraud = train_data.loc[:,train_data.columns != 'fraud']\n",
    "y_fraud = train_data['fraud']"
   ]
  },
  {
   "cell_type": "code",
   "execution_count": 73,
   "metadata": {},
   "outputs": [],
   "source": [
    "## train test split\n",
    "from sklearn.model_selection import train_test_split\n",
    "x_fraud_train, x_fraud_test, y_fraud_train, y_fraud_test = train_test_split(x_fraud, y_fraud, test_size=0.2)"
   ]
  },
  {
   "cell_type": "code",
   "execution_count": 74,
   "metadata": {},
   "outputs": [],
   "source": [
    "## standardisation\n",
    "from sklearn.preprocessing import StandardScaler\n",
    "sc = StandardScaler()\n",
    "x_fraud_train = sc.fit_transform(x_fraud_train)\n",
    "x_fraud_test = sc.transform(x_fraud_test)"
   ]
  },
  {
   "cell_type": "code",
   "execution_count": 76,
   "metadata": {},
   "outputs": [
    {
     "name": "stdout",
     "output_type": "stream",
     "text": [
      "Model Used: LogisticRegression()\n",
      "Fraud Accuracy: 97.9309771770441%\n",
      "Fraud Recall: 55.18518518518518%\n",
      "Fraud AUC: 76.71912047114368%\n",
      "Fraud F1 score: 28.51674641148325%\n",
      "Fraud Confusion Matrix: \n",
      "[[35208   626]\n",
      " [  121   149]]\n"
     ]
    },
    {
     "name": "stderr",
     "output_type": "stream",
     "text": [
      "/opt/anaconda3/lib/python3.8/site-packages/sklearn/linear_model/_logistic.py:762: ConvergenceWarning: lbfgs failed to converge (status=1):\n",
      "STOP: TOTAL NO. of ITERATIONS REACHED LIMIT.\n",
      "\n",
      "Increase the number of iterations (max_iter) or scale the data as shown in:\n",
      "    https://scikit-learn.org/stable/modules/preprocessing.html\n",
      "Please also refer to the documentation for alternative solver options:\n",
      "    https://scikit-learn.org/stable/modules/linear_model.html#logistic-regression\n",
      "  n_iter_i = _check_optimize_result(\n"
     ]
    }
   ],
   "source": [
    "## logistic regression\n",
    "from sklearn.linear_model import LogisticRegression\n",
    "model_fraud = LogisticRegression()\n",
    "\n",
    "model_stats(model_fraud, x_fraud_train, x_fraud_test, y_fraud_train, y_fraud_test, name='Fraud')"
   ]
  },
  {
   "cell_type": "code",
   "execution_count": 98,
   "metadata": {},
   "outputs": [
    {
     "name": "stdout",
     "output_type": "stream",
     "text": [
      "Model Used: XGBClassifier(base_score=0.5, booster='gbtree', colsample_bylevel=1,\n",
      "              colsample_bynode=1, colsample_bytree=0.5, eta=0.01, gamma=2,\n",
      "              gpu_id=-1, importance_type='gain', interaction_constraints='',\n",
      "              learning_rate=0.00999999978, max_delta_step=0, max_depth=8,\n",
      "              min_child_weight=1, missing=nan, monotone_constraints='()',\n",
      "              n_estimators=2000, n_jobs=0, num_parallel_tree=1, random_state=0,\n",
      "              reg_alpha=0, reg_lambda=1, scale_pos_weight=1, subsample=0.75,\n",
      "              tree_method='exact', validate_parameters=1, verbosity=None)\n",
      "fraud Accuracy: 98.93363616219808%\n",
      "fraud Recall: 92.20779220779221%\n",
      "fraud AUC: 95.61430517184965%\n",
      "fraud F1 score: 68.87631366208569%\n",
      "fraud Confusion Matrix: \n",
      "[[35293   349]\n",
      " [   36   426]]\n"
     ]
    }
   ],
   "source": [
    "## xgboost\n",
    "import xgboost as xgb\n",
    "from xgboost.sklearn import XGBClassifier\n",
    "xgb_model_fraud = XGBClassifier(colsample_bytree=0.5, \n",
    "                    eta=0.01, \n",
    "                    gamma=2, \n",
    "                    max_depth=8, \n",
    "                    min_child_weight=1, \n",
    "                    n_estimators=2000, \n",
    "                    subsample=0.75)\n",
    "model_stats(xgb_model_fraud, x_fraud_train, x_fraud_test, y_fraud_train, y_fraud_test, name='fraud')"
   ]
  },
  {
   "cell_type": "code",
   "execution_count": 99,
   "metadata": {},
   "outputs": [
    {
     "data": {
      "image/png": "[encoded data removed]",
      "text/plain": [
       "<Figure size 432x288 with 1 Axes>"
      ]
     },
     "metadata": {
      "needs_background": "light"
     },
     "output_type": "display_data"
    }
   ],
   "source": [
    "## XGBoost 可解释性分析 -- Feature Importance\n",
    "from xgboost import plot_importance\n",
    "plot_importance(xgb_model_fraud)\n",
    "plt.show()"
   ]
  },
  {
   "cell_type": "markdown",
   "metadata": {},
   "source": [
    "### 2.Classification\n",
    "对于迟交货订单进行预测，即Delivery Status= 'Late delivery'"
   ]
  },
  {
   "cell_type": "code",
   "execution_count": 77,
   "metadata": {},
   "outputs": [],
   "source": [
    "x_late = train_data.loc[:,train_data.columns != 'late_delivery']\n",
    "y_late = train_data['late_delivery']\n",
    "x_late_train, x_late_test, y_late_train, y_late_test = train_test_split(x_late, y_late, test_size=0.2)"
   ]
  },
  {
   "cell_type": "code",
   "execution_count": 78,
   "metadata": {},
   "outputs": [],
   "source": [
    "sc = StandardScaler()\n",
    "x_late_train = sc.fit_transform(x_late_train)\n",
    "x_late_test = sc.transform(x_late_test)"
   ]
  },
  {
   "cell_type": "code",
   "execution_count": 79,
   "metadata": {},
   "outputs": [
    {
     "name": "stdout",
     "output_type": "stream",
     "text": [
      "Model Used: LogisticRegression()\n",
      "late delivery Accuracy: 98.8339242189231%\n",
      "late delivery Recall: 97.90672235481304%\n",
      "late delivery AUC: 98.95336117740652%\n",
      "late delivery F1 score: 98.94229078210186%\n",
      "late delivery Confusion Matrix: \n",
      "[[15992     0]\n",
      " [  421 19691]]\n"
     ]
    }
   ],
   "source": [
    "## logistic regression\n",
    "model_late = LogisticRegression()\n",
    "model_stats(model_late, x_late_train, x_late_test, y_late_train, y_late_test, name='late delivery')"
   ]
  },
  {
   "cell_type": "code",
   "execution_count": 84,
   "metadata": {},
   "outputs": [
    {
     "name": "stdout",
     "output_type": "stream",
     "text": [
      "Model Used: XGBClassifier(base_score=0.5, booster='gbtree', colsample_bylevel=1,\n",
      "              colsample_bynode=1, colsample_bytree=0.5, eta=0.01, gamma=2,\n",
      "              gpu_id=-1, importance_type='gain', interaction_constraints='',\n",
      "              learning_rate=0.00999999978, max_delta_step=0, max_depth=8,\n",
      "              min_child_weight=1, missing=nan, monotone_constraints='()',\n",
      "              n_estimators=2000, n_jobs=0, num_parallel_tree=1, random_state=0,\n",
      "              reg_alpha=0, reg_lambda=1, scale_pos_weight=1, subsample=0.75,\n",
      "              tree_method='exact', validate_parameters=1, verbosity=None)\n",
      "late delivery Accuracy: 99.05550631508973%\n",
      "late delivery Recall: 98.29772364217251%\n",
      "late delivery AUC: 99.14886182108627%\n",
      "late delivery F1 score: 99.14155527024646%\n",
      "late delivery Confusion Matrix: \n",
      "[[16072     0]\n",
      " [  341 19691]]\n"
     ]
    }
   ],
   "source": [
    "## xgboost\n",
    "import xgboost as xgb\n",
    "from xgboost.sklearn import XGBClassifier\n",
    "xgb_model_late = XGBClassifier(colsample_bytree=0.5, \n",
    "                    eta=0.01, \n",
    "                    gamma=2, \n",
    "                    max_depth=8, \n",
    "                    min_child_weight=1, \n",
    "                    n_estimators=2000, \n",
    "                    subsample=0.75)\n",
    "model_stats(xgb_model_late, x_late_train, x_late_test, y_late_train, y_late_test, name='late delivery')"
   ]
  },
  {
   "cell_type": "code",
   "execution_count": 96,
   "metadata": {},
   "outputs": [
    {
     "data": {
      "image/png": "[encoded data removed]",
      "text/plain": [
       "<Figure size 432x288 with 1 Axes>"
      ]
     },
     "metadata": {
      "needs_background": "light"
     },
     "output_type": "display_data"
    }
   ],
   "source": [
    "## XGBoost 可解释性分析 -- Feature Importance\n",
    "from xgboost import plot_importance\n",
    "plot_importance(xgb_model_late)\n",
    "plt.show()"
   ]
  },
  {
   "cell_type": "markdown",
   "metadata": {},
   "source": [
    "### 3. Regression\n",
    "对于销售额进行预测，即Sales字段"
   ]
  },
  {
   "cell_type": "code",
   "execution_count": 100,
   "metadata": {},
   "outputs": [],
   "source": [
    "from sklearn.metrics import mean_absolute_error\n",
    "def regression_model_stats(model, x_train, x_test, y_train, y_test, name):\n",
    "    model = model.fit(x_train, y_train)\n",
    "    y_pred = model.predict(x_test)\n",
    "    mae = mean_absolute_error(y_pred, y_test)\n",
    "    \n",
    "    \n",
    "    print('Model Used:', model)\n",
    "    print('{} MAE: {}'.format(name, mae))\n",
    "    \n",
    "    return"
   ]
  },
  {
   "cell_type": "code",
   "execution_count": 101,
   "metadata": {},
   "outputs": [],
   "source": [
    "x_sales = train_data.loc[:,train_data.columns != 'Sales']\n",
    "y_sales = train_data['Sales']\n",
    "x_sales_train, x_sales_test, y_sales_train, y_sales_test = train_test_split(x_sales, y_sales, test_size=0.2)"
   ]
  },
  {
   "cell_type": "code",
   "execution_count": 102,
   "metadata": {},
   "outputs": [],
   "source": [
    "sc = StandardScaler()\n",
    "x_sales_train = sc.fit_transform(x_sales_train)\n",
    "x_sales_test = sc.transform(x_sales_test)"
   ]
  },
  {
   "cell_type": "code",
   "execution_count": 104,
   "metadata": {},
   "outputs": [
    {
     "name": "stdout",
     "output_type": "stream",
     "text": [
      "Model Used: XGBRegressor(base_score=0.5, booster='gbtree', colsample_bylevel=1,\n",
      "             colsample_bynode=1, colsample_bytree=0.5, eta=0.01, gamma=2,\n",
      "             gpu_id=-1, importance_type='gain', interaction_constraints='',\n",
      "             learning_rate=0.00999999978, max_delta_step=0, max_depth=8,\n",
      "             min_child_weight=1, missing=nan, monotone_constraints='()',\n",
      "             n_estimators=2000, n_jobs=0, num_parallel_tree=1, random_state=0,\n",
      "             reg_alpha=0, reg_lambda=1, scale_pos_weight=1, subsample=0.75,\n",
      "             tree_method='exact', validate_parameters=1, verbosity=None)\n",
      "SALES MAE: 0.6350254918835788\n"
     ]
    }
   ],
   "source": [
    "## xgboost\n",
    "import xgboost as xgb\n",
    "from xgboost.sklearn import XGBRegressor\n",
    "xgb_model_sales = XGBRegressor(colsample_bytree=0.5, \n",
    "                    eta=0.01, \n",
    "                    gamma=2, \n",
    "                    max_depth=8, \n",
    "                    min_child_weight=1, \n",
    "                    n_estimators=2000, \n",
    "                    subsample=0.75)\n",
    "regression_model_stats(xgb_model_sales, x_sales_train, x_sales_test, y_sales_train, y_sales_test, name='SALES')"
   ]
  },
  {
   "cell_type": "code",
   "execution_count": 105,
   "metadata": {},
   "outputs": [
    {
     "data": {
      "image/png": "[encoded data removed]",
      "text/plain": [
       "<Figure size 432x288 with 1 Axes>"
      ]
     },
     "metadata": {
      "needs_background": "light"
     },
     "output_type": "display_data"
    }
   ],
   "source": [
    "## XGBoost 可解释性分析 -- Feature Importance\n",
    "from xgboost import plot_importance\n",
    "plot_importance(xgb_model_sales)\n",
    "plt.show()"
   ]
  },
  {
   "cell_type": "code",
   "execution_count": 111,
   "metadata": {},
   "outputs": [
    {
     "name": "stdout",
     "output_type": "stream",
     "text": [
      "Model Used: LGBMRegressor(colsample_bytree=0.5, learning_rate=0.01, min_child_weight=1,\n",
      "              n_estimators=2000, num_leaves=20, objective='regression',\n",
      "              subsample=0.5)\n",
      "SALES MAE: 1.779263256935747\n"
     ]
    }
   ],
   "source": [
    "## lightGBM\n",
    "import lightgbm as lgb\n",
    "from sklearn.model_selection import GridSearchCV\n",
    "from lightgbm.sklearn import LGBMRegressor\n",
    "\n",
    "lgb_model_sales = LGBMRegressor(colsample_bytree=0.5,\n",
    "                     learning_rate=0.01,\n",
    "                     max_depth=-1, \n",
    "                     min_child_weight=1,\n",
    "                     n_estimators=2000, \n",
    "                     num_leaves=20, \n",
    "                     objective='regression',\n",
    "                     subsample=0.5)\n",
    "regression_model_stats(lgb_model_sales, x_sales_train, x_sales_test, y_sales_train, y_sales_test, name='SALES')"
   ]
  },
  {
   "cell_type": "code",
   "execution_count": 113,
   "metadata": {},
   "outputs": [
    {
     "data": {
      "text/plain": [
       "<matplotlib.axes._subplots.AxesSubplot at 0x7f95b0cd82b0>"
      ]
     },
     "execution_count": 113,
     "metadata": {},
     "output_type": "execute_result"
    },
    {
     "data": {
      "image/png": "[encoded data removed]",
      "text/plain": [
       "<Figure size 432x288 with 1 Axes>"
      ]
     },
     "metadata": {
      "needs_background": "light"
     },
     "output_type": "display_data"
    }
   ],
   "source": [
    "## LightGBM 可解释性分析 -- Feature Importance\n",
    "lgb.plot_importance(lgb_model_sales)"
   ]
  },
  {
   "cell_type": "markdown",
   "metadata": {},
   "source": [
    "### 4. Regression\n",
    "对于订货数量进行预测，即Order Item Quantity"
   ]
  },
  {
   "cell_type": "code",
   "execution_count": 106,
   "metadata": {},
   "outputs": [],
   "source": [
    "x_itemquant = train_data.loc[:,train_data.columns != 'Order Item Quantity']\n",
    "y_itemquant = train_data['Order Item Quantity']\n",
    "x_itemquant_train, x_itemquant_test, y_itemquant_train, y_itemquant_test = train_test_split(x_itemquant, y_itemquant, test_size=0.2)"
   ]
  },
  {
   "cell_type": "code",
   "execution_count": 108,
   "metadata": {},
   "outputs": [],
   "source": [
    "sc = StandardScaler()\n",
    "x_itemquant_train = sc.fit_transform(x_itemquant_train)\n",
    "x_itemquant_test = sc.transform(x_itemquant_test)"
   ]
  },
  {
   "cell_type": "code",
   "execution_count": 109,
   "metadata": {},
   "outputs": [
    {
     "name": "stdout",
     "output_type": "stream",
     "text": [
      "Model Used: XGBRegressor(base_score=0.5, booster='gbtree', colsample_bylevel=1,\n",
      "             colsample_bynode=1, colsample_bytree=0.5, eta=0.01, gamma=2,\n",
      "             gpu_id=-1, importance_type='gain', interaction_constraints='',\n",
      "             learning_rate=0.00999999978, max_delta_step=0, max_depth=8,\n",
      "             min_child_weight=1, missing=nan, monotone_constraints='()',\n",
      "             n_estimators=2000, n_jobs=0, num_parallel_tree=1, random_state=0,\n",
      "             reg_alpha=0, reg_lambda=1, scale_pos_weight=1, subsample=0.75,\n",
      "             tree_method='exact', validate_parameters=1, verbosity=None)\n",
      "Item sale quantity MAE: 0.02470920914105135\n"
     ]
    }
   ],
   "source": [
    "## xgboost\n",
    "import xgboost as xgb\n",
    "from xgboost.sklearn import XGBRegressor\n",
    "xgb_model_itemquant = XGBRegressor(colsample_bytree=0.5, \n",
    "                    eta=0.01, \n",
    "                    gamma=2, \n",
    "                    max_depth=8, \n",
    "                    min_child_weight=1, \n",
    "                    n_estimators=2000, \n",
    "                    subsample=0.75)\n",
    "regression_model_stats(xgb_model_itemquant, x_itemquant_train, x_itemquant_test, y_itemquant_train, y_itemquant_test, name='Item sale quantity')"
   ]
  },
  {
   "cell_type": "code",
   "execution_count": 110,
   "metadata": {},
   "outputs": [
    {
     "data": {
      "image/png": "[encoded data removed]",
      "text/plain": [
       "<Figure size 432x288 with 1 Axes>"
      ]
     },
     "metadata": {
      "needs_background": "light"
     },
     "output_type": "display_data"
    }
   ],
   "source": [
    "## XGBoost 可解释性分析 -- Feature Importance\n",
    "from xgboost import plot_importance\n",
    "plot_importance(xgb_model_itemquant)\n",
    "plt.show()"
   ]
  },
  {
   "cell_type": "code",
   "execution_count": 114,
   "metadata": {},
   "outputs": [
    {
     "name": "stdout",
     "output_type": "stream",
     "text": [
      "Model Used: LGBMRegressor(colsample_bytree=0.5, learning_rate=0.01, min_child_weight=1,\n",
      "              n_estimators=2000, num_leaves=20, objective='regression',\n",
      "              subsample=0.5)\n",
      "Item sale quantity MAE: 0.021625184320747046\n"
     ]
    }
   ],
   "source": [
    "## lightGBM\n",
    "import lightgbm as lgb\n",
    "from sklearn.model_selection import GridSearchCV\n",
    "from lightgbm.sklearn import LGBMRegressor\n",
    "\n",
    "lgb_model_itemquant = LGBMRegressor(colsample_bytree=0.5,\n",
    "                     learning_rate=0.01,\n",
    "                     max_depth=-1, \n",
    "                     min_child_weight=1,\n",
    "                     n_estimators=2000, \n",
    "                     num_leaves=20, \n",
    "                     objective='regression',\n",
    "                     subsample=0.5)\n",
    "regression_model_stats(lgb_model_itemquant, x_itemquant_train, x_itemquant_test, y_itemquant_train, y_itemquant_test, name='Item sale quantity')"
   ]
  },
  {
   "cell_type": "code",
   "execution_count": 115,
   "metadata": {},
   "outputs": [
    {
     "data": {
      "text/plain": [
       "<matplotlib.axes._subplots.AxesSubplot at 0x7f95b0b20340>"
      ]
     },
     "execution_count": 115,
     "metadata": {},
     "output_type": "execute_result"
    },
    {
     "data": {
      "image/png": "[encoded data removed]",
      "text/plain": [
       "<Figure size 432x288 with 1 Axes>"
      ]
     },
     "metadata": {
      "needs_background": "light"
     },
     "output_type": "display_data"
    }
   ],
   "source": [
    "## LightGBM 可解释性分析 -- Feature Importance\n",
    "lgb.plot_importance(lgb_model_itemquant)"
   ]
  },
  {
   "cell_type": "code",
   "execution_count": null,
   "metadata": {},
   "outputs": [],
   "source": []
  }
 ],
 "metadata": {
  "kernelspec": {
   "display_name": "Python 3",
   "language": "python",
   "name": "python3"
  },
  "language_info": {
   "codemirror_mode": {
    "name": "ipython",
    "version": 3
   },
   "file_extension": ".py",
   "mimetype": "text/x-python",
   "name": "python",
   "nbconvert_exporter": "python",
   "pygments_lexer": "ipython3",
   "version": "3.8.3"
  }
 },
 "nbformat": 4,
 "nbformat_minor": 4
}
